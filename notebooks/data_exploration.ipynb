{
 "cells": [
  {
   "cell_type": "markdown",
   "id": "866f9604",
   "metadata": {},
   "source": [
    "# Kerala Floods 2018 — Exploratory Data Analysis (EDA)\n",
    "\n",
    "In this notebook, we load the Kerala Floods 2018 dataset, perform basic exploration, \n",
    "and check the structure, summary statistics, and missing values.\n",
    "This will help us understand the dataset before building any ML models.\n"
   ]
  },
  {
   "cell_type": "markdown",
   "id": "b78963c1",
   "metadata": {},
   "source": [
    "## Step 1: Import libraries and load dataset\n",
    "\n",
    "We use pandas to load the dataset into a DataFrame.\n",
    "A DataFrame is like an Excel sheet in Python — it stores rows and columns of data.\n",
    "\n",
    "Here we load our dataset from the `data/` folder and display the first 5 rows \n",
    "to quickly check what the data looks like.\n"
   ]
  },
  {
   "cell_type": "code",
   "execution_count": 8,
   "id": "48979132",
   "metadata": {},
   "outputs": [
    {
     "data": {
      "text/html": [
       "<div>\n",
       "<style scoped>\n",
       "    .dataframe tbody tr th:only-of-type {\n",
       "        vertical-align: middle;\n",
       "    }\n",
       "\n",
       "    .dataframe tbody tr th {\n",
       "        vertical-align: top;\n",
       "    }\n",
       "\n",
       "    .dataframe thead th {\n",
       "        text-align: right;\n",
       "    }\n",
       "</style>\n",
       "<table border=\"1\" class=\"dataframe\">\n",
       "  <thead>\n",
       "    <tr style=\"text-align: right;\">\n",
       "      <th></th>\n",
       "      <th>district</th>\n",
       "      <th>fatalities</th>\n",
       "      <th>no_of_camps</th>\n",
       "      <th>actual_rainfall_in_mm</th>\n",
       "      <th>normal_rainfall_in_mm</th>\n",
       "      <th>no_of_landslides</th>\n",
       "      <th>full_damaged_houses</th>\n",
       "    </tr>\n",
       "  </thead>\n",
       "  <tbody>\n",
       "    <tr>\n",
       "      <th>0</th>\n",
       "      <td>Thiruvananthapuram</td>\n",
       "      <td>11</td>\n",
       "      <td>94</td>\n",
       "      <td>373.8</td>\n",
       "      <td>142.0</td>\n",
       "      <td>0</td>\n",
       "      <td>111</td>\n",
       "    </tr>\n",
       "    <tr>\n",
       "      <th>1</th>\n",
       "      <td>Kollam</td>\n",
       "      <td>5</td>\n",
       "      <td>168</td>\n",
       "      <td>644.1</td>\n",
       "      <td>258.7</td>\n",
       "      <td>2</td>\n",
       "      <td>95</td>\n",
       "    </tr>\n",
       "    <tr>\n",
       "      <th>2</th>\n",
       "      <td>Pathanamthitta</td>\n",
       "      <td>3</td>\n",
       "      <td>4352</td>\n",
       "      <td>764.9</td>\n",
       "      <td>352.7</td>\n",
       "      <td>8</td>\n",
       "      <td>741</td>\n",
       "    </tr>\n",
       "    <tr>\n",
       "      <th>3</th>\n",
       "      <td>Alappuzha</td>\n",
       "      <td>43</td>\n",
       "      <td>2126</td>\n",
       "      <td>608.2</td>\n",
       "      <td>343.1</td>\n",
       "      <td>0</td>\n",
       "      <td>2075</td>\n",
       "    </tr>\n",
       "    <tr>\n",
       "      <th>4</th>\n",
       "      <td>Kottayam</td>\n",
       "      <td>14</td>\n",
       "      <td>788</td>\n",
       "      <td>619.2</td>\n",
       "      <td>386.0</td>\n",
       "      <td>29</td>\n",
       "      <td>76</td>\n",
       "    </tr>\n",
       "  </tbody>\n",
       "</table>\n",
       "</div>"
      ],
      "text/plain": [
       "             district  fatalities  no_of_camps  actual_rainfall_in_mm  \\\n",
       "0  Thiruvananthapuram          11           94                  373.8   \n",
       "1              Kollam           5          168                  644.1   \n",
       "2      Pathanamthitta           3         4352                  764.9   \n",
       "3           Alappuzha          43         2126                  608.2   \n",
       "4            Kottayam          14          788                  619.2   \n",
       "\n",
       "   normal_rainfall_in_mm  no_of_landslides  full_damaged_houses  \n",
       "0                  142.0                 0                  111  \n",
       "1                  258.7                 2                   95  \n",
       "2                  352.7                 8                  741  \n",
       "3                  343.1                 0                 2075  \n",
       "4                  386.0                29                   76  "
      ]
     },
     "execution_count": 8,
     "metadata": {},
     "output_type": "execute_result"
    }
   ],
   "source": [
    "import pandas as pd \n",
    "#loading dataset\n",
    "df = pd.read_csv(\"../data/kerala_floods_2018.csv\")\n",
    "df.head() #shwoi"
   ]
  },
  {
   "cell_type": "markdown",
   "id": "93f53e49",
   "metadata": {},
   "source": [
    "## Step 2: Check dataset structure (df.info)\n",
    "\n",
    "The `.info()` method shows:\n",
    "- Column names\n",
    "- Data types (int, float, object/string)\n",
    "- Number of non-null (filled) values per column\n",
    "\n",
    "This helps us understand what type of data each column holds, and whether \n",
    "there are missing values.\n"
   ]
  },
  {
   "cell_type": "code",
   "execution_count": 9,
   "id": "ac5dc0c3",
   "metadata": {},
   "outputs": [
    {
     "name": "stdout",
     "output_type": "stream",
     "text": [
      "<class 'pandas.core.frame.DataFrame'>\n",
      "RangeIndex: 14 entries, 0 to 13\n",
      "Data columns (total 7 columns):\n",
      " #   Column                 Non-Null Count  Dtype  \n",
      "---  ------                 --------------  -----  \n",
      " 0   district               14 non-null     object \n",
      " 1   fatalities             14 non-null     int64  \n",
      " 2   no_of_camps            14 non-null     int64  \n",
      " 3   actual_rainfall_in_mm  14 non-null     float64\n",
      " 4   normal_rainfall_in_mm  14 non-null     float64\n",
      " 5   no_of_landslides       14 non-null     int64  \n",
      " 6   full_damaged_houses    14 non-null     int64  \n",
      "dtypes: float64(2), int64(4), object(1)\n",
      "memory usage: 916.0+ bytes\n"
     ]
    }
   ],
   "source": [
    "# Check structure: columns, datatypes, non-null counts\n",
    "df.info()\n"
   ]
  },
  {
   "cell_type": "markdown",
   "id": "2f8755a3",
   "metadata": {},
   "source": [
    "## Step 3: Get summary statistics (df.describe)\n",
    "\n",
    "The `.describe()` method gives summary stats for numeric columns:\n",
    "- Count (number of rows)\n",
    "- Mean (average)\n",
    "- Standard deviation (spread of values)\n",
    "- Min, Max\n",
    "- Quartiles (25%, 50%, 75%)\n",
    "\n",
    "This is useful to see ranges (e.g., rainfall min vs max) and spot any anomalies.\n"
   ]
  },
  {
   "cell_type": "code",
   "execution_count": 10,
   "id": "56546593",
   "metadata": {},
   "outputs": [
    {
     "data": {
      "text/html": [
       "<div>\n",
       "<style scoped>\n",
       "    .dataframe tbody tr th:only-of-type {\n",
       "        vertical-align: middle;\n",
       "    }\n",
       "\n",
       "    .dataframe tbody tr th {\n",
       "        vertical-align: top;\n",
       "    }\n",
       "\n",
       "    .dataframe thead th {\n",
       "        text-align: right;\n",
       "    }\n",
       "</style>\n",
       "<table border=\"1\" class=\"dataframe\">\n",
       "  <thead>\n",
       "    <tr style=\"text-align: right;\">\n",
       "      <th></th>\n",
       "      <th>fatalities</th>\n",
       "      <th>no_of_camps</th>\n",
       "      <th>actual_rainfall_in_mm</th>\n",
       "      <th>normal_rainfall_in_mm</th>\n",
       "      <th>no_of_landslides</th>\n",
       "      <th>full_damaged_houses</th>\n",
       "    </tr>\n",
       "  </thead>\n",
       "  <tbody>\n",
       "    <tr>\n",
       "      <th>count</th>\n",
       "      <td>14.000000</td>\n",
       "      <td>14.000000</td>\n",
       "      <td>14.000000</td>\n",
       "      <td>14.000000</td>\n",
       "      <td>14.000000</td>\n",
       "      <td>14.000000</td>\n",
       "    </tr>\n",
       "    <tr>\n",
       "      <th>mean</th>\n",
       "      <td>24.214286</td>\n",
       "      <td>875.214286</td>\n",
       "      <td>773.307143</td>\n",
       "      <td>417.950000</td>\n",
       "      <td>23.642857</td>\n",
       "      <td>737.071429</td>\n",
       "    </tr>\n",
       "    <tr>\n",
       "      <th>std</th>\n",
       "      <td>23.344176</td>\n",
       "      <td>1201.089709</td>\n",
       "      <td>260.248297</td>\n",
       "      <td>133.874509</td>\n",
       "      <td>37.300458</td>\n",
       "      <td>849.385159</td>\n",
       "    </tr>\n",
       "    <tr>\n",
       "      <th>min</th>\n",
       "      <td>1.000000</td>\n",
       "      <td>2.000000</td>\n",
       "      <td>373.800000</td>\n",
       "      <td>142.000000</td>\n",
       "      <td>0.000000</td>\n",
       "      <td>3.000000</td>\n",
       "    </tr>\n",
       "    <tr>\n",
       "      <th>25%</th>\n",
       "      <td>6.000000</td>\n",
       "      <td>165.750000</td>\n",
       "      <td>638.700000</td>\n",
       "      <td>345.500000</td>\n",
       "      <td>0.500000</td>\n",
       "      <td>108.000000</td>\n",
       "    </tr>\n",
       "    <tr>\n",
       "      <th>50%</th>\n",
       "      <td>15.000000</td>\n",
       "      <td>381.000000</td>\n",
       "      <td>700.000000</td>\n",
       "      <td>398.300000</td>\n",
       "      <td>13.000000</td>\n",
       "      <td>557.500000</td>\n",
       "    </tr>\n",
       "    <tr>\n",
       "      <th>75%</th>\n",
       "      <td>39.750000</td>\n",
       "      <td>1331.750000</td>\n",
       "      <td>845.600000</td>\n",
       "      <td>520.700000</td>\n",
       "      <td>28.250000</td>\n",
       "      <td>1023.750000</td>\n",
       "    </tr>\n",
       "    <tr>\n",
       "      <th>max</th>\n",
       "      <td>72.000000</td>\n",
       "      <td>4352.000000</td>\n",
       "      <td>1478.900000</td>\n",
       "      <td>636.300000</td>\n",
       "      <td>143.000000</td>\n",
       "      <td>2889.000000</td>\n",
       "    </tr>\n",
       "  </tbody>\n",
       "</table>\n",
       "</div>"
      ],
      "text/plain": [
       "       fatalities  no_of_camps  actual_rainfall_in_mm  normal_rainfall_in_mm  \\\n",
       "count   14.000000    14.000000              14.000000              14.000000   \n",
       "mean    24.214286   875.214286             773.307143             417.950000   \n",
       "std     23.344176  1201.089709             260.248297             133.874509   \n",
       "min      1.000000     2.000000             373.800000             142.000000   \n",
       "25%      6.000000   165.750000             638.700000             345.500000   \n",
       "50%     15.000000   381.000000             700.000000             398.300000   \n",
       "75%     39.750000  1331.750000             845.600000             520.700000   \n",
       "max     72.000000  4352.000000            1478.900000             636.300000   \n",
       "\n",
       "       no_of_landslides  full_damaged_houses  \n",
       "count         14.000000            14.000000  \n",
       "mean          23.642857           737.071429  \n",
       "std           37.300458           849.385159  \n",
       "min            0.000000             3.000000  \n",
       "25%            0.500000           108.000000  \n",
       "50%           13.000000           557.500000  \n",
       "75%           28.250000          1023.750000  \n",
       "max          143.000000          2889.000000  "
      ]
     },
     "execution_count": 10,
     "metadata": {},
     "output_type": "execute_result"
    }
   ],
   "source": [
    "df.describe()"
   ]
  },
  {
   "cell_type": "markdown",
   "id": "93096065",
   "metadata": {},
   "source": [
    "## Step 4: Check for missing values\n",
    "\n",
    "The `.isnull().sum()` method counts how many missing (NaN) values are in each column.\n",
    "\n",
    "Sorting in descending order lets us see the columns with the most missing data first.\n",
    "This step is crucial because missing values must be handled before ML modeling.\n"
   ]
  },
  {
   "cell_type": "code",
   "execution_count": 11,
   "id": "7bae235d",
   "metadata": {},
   "outputs": [
    {
     "data": {
      "text/plain": [
       "district                 0\n",
       "fatalities               0\n",
       "no_of_camps              0\n",
       "actual_rainfall_in_mm    0\n",
       "normal_rainfall_in_mm    0\n",
       "no_of_landslides         0\n",
       "full_damaged_houses      0\n",
       "dtype: int64"
      ]
     },
     "execution_count": 11,
     "metadata": {},
     "output_type": "execute_result"
    }
   ],
   "source": [
    "df.isnull().sum().sort_values(ascending=False)"
   ]
  }
 ],
 "metadata": {
  "kernelspec": {
   "display_name": "venv",
   "language": "python",
   "name": "python3"
  },
  "language_info": {
   "codemirror_mode": {
    "name": "ipython",
    "version": 3
   },
   "file_extension": ".py",
   "mimetype": "text/x-python",
   "name": "python",
   "nbconvert_exporter": "python",
   "pygments_lexer": "ipython3",
   "version": "3.13.7"
  }
 },
 "nbformat": 4,
 "nbformat_minor": 5
}
